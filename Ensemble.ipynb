{
 "cells": [
  {
   "cell_type": "code",
   "execution_count": 55,
   "id": "6cf52ebb-b997-4ffe-9208-8395d6ac823d",
   "metadata": {},
   "outputs": [],
   "source": [
    "import pandas as pd\n",
    "import matplotlib.pyplot as plt\n",
    "import seaborn as sns\n",
    "from sklearn.model_selection import train_test_split\n",
    "from sklearn.preprocessing import LabelEncoder\n",
    "from sklearn.ensemble import RandomForestClassifier\n",
    "from sklearn.metrics import accuracy_score, confusion_matrix, classification_report"
   ]
  },
  {
   "cell_type": "code",
   "execution_count": 57,
   "id": "2a358c04-cb18-44df-8b91-8324159d4ef1",
   "metadata": {},
   "outputs": [
    {
     "data": {
      "text/html": [
       "<div>\n",
       "<style scoped>\n",
       "    .dataframe tbody tr th:only-of-type {\n",
       "        vertical-align: middle;\n",
       "    }\n",
       "\n",
       "    .dataframe tbody tr th {\n",
       "        vertical-align: top;\n",
       "    }\n",
       "\n",
       "    .dataframe thead th {\n",
       "        text-align: right;\n",
       "    }\n",
       "</style>\n",
       "<table border=\"1\" class=\"dataframe\">\n",
       "  <thead>\n",
       "    <tr style=\"text-align: right;\">\n",
       "      <th></th>\n",
       "      <th>ISBN</th>\n",
       "      <th>Publisher</th>\n",
       "      <th>Book_Title</th>\n",
       "      <th>Book_Author</th>\n",
       "      <th>First_Publish_Year</th>\n",
       "      <th>Edition_Count</th>\n",
       "      <th>Book_Age</th>\n",
       "      <th>Edition_Count_Category</th>\n",
       "      <th>Total_Reviews</th>\n",
       "      <th>No_of_Pages</th>\n",
       "      <th>Book_Length_Category</th>\n",
       "      <th>Popularity_Score</th>\n",
       "      <th>Book_Price</th>\n",
       "      <th>Bestseller</th>\n",
       "    </tr>\n",
       "  </thead>\n",
       "  <tbody>\n",
       "    <tr>\n",
       "      <th>0</th>\n",
       "      <td>1881320189</td>\n",
       "      <td>River City Pub</td>\n",
       "      <td>Goodbye to the Buttermilk Sky</td>\n",
       "      <td>Julia Oliver</td>\n",
       "      <td>1994</td>\n",
       "      <td>1</td>\n",
       "      <td>33</td>\n",
       "      <td>Low</td>\n",
       "      <td>189</td>\n",
       "      <td>363</td>\n",
       "      <td>Medium</td>\n",
       "      <td>113.8</td>\n",
       "      <td>32.15</td>\n",
       "      <td>1</td>\n",
       "    </tr>\n",
       "    <tr>\n",
       "      <th>1</th>\n",
       "      <td>0440295734</td>\n",
       "      <td>Bantam Books</td>\n",
       "      <td>The Testament</td>\n",
       "      <td>John Grisham</td>\n",
       "      <td>1999</td>\n",
       "      <td>62</td>\n",
       "      <td>26</td>\n",
       "      <td>High</td>\n",
       "      <td>588</td>\n",
       "      <td>474</td>\n",
       "      <td>Medium</td>\n",
       "      <td>377.6</td>\n",
       "      <td>37.70</td>\n",
       "      <td>1</td>\n",
       "    </tr>\n",
       "    <tr>\n",
       "      <th>2</th>\n",
       "      <td>0553502271</td>\n",
       "      <td>Random House Audio</td>\n",
       "      <td>The Testament</td>\n",
       "      <td>John Grisham</td>\n",
       "      <td>1999</td>\n",
       "      <td>61</td>\n",
       "      <td>26</td>\n",
       "      <td>High</td>\n",
       "      <td>8</td>\n",
       "      <td>116</td>\n",
       "      <td>Short</td>\n",
       "      <td>29.2</td>\n",
       "      <td>5.80</td>\n",
       "      <td>0</td>\n",
       "    </tr>\n",
       "    <tr>\n",
       "      <th>3</th>\n",
       "      <td>0439095026</td>\n",
       "      <td>Scholastic</td>\n",
       "      <td>Tell Me This Isn't Happening</td>\n",
       "      <td>Robynn Clairday</td>\n",
       "      <td>1999</td>\n",
       "      <td>1</td>\n",
       "      <td>26</td>\n",
       "      <td>Low</td>\n",
       "      <td>165</td>\n",
       "      <td>440</td>\n",
       "      <td>Medium</td>\n",
       "      <td>99.4</td>\n",
       "      <td>32.00</td>\n",
       "      <td>1</td>\n",
       "    </tr>\n",
       "    <tr>\n",
       "      <th>4</th>\n",
       "      <td>0060168013</td>\n",
       "      <td>Harpercollins</td>\n",
       "      <td>Pigs in Heaven</td>\n",
       "      <td>Barbara Kingsolver</td>\n",
       "      <td>1993</td>\n",
       "      <td>13</td>\n",
       "      <td>32</td>\n",
       "      <td>Medium</td>\n",
       "      <td>88</td>\n",
       "      <td>451</td>\n",
       "      <td>Medium</td>\n",
       "      <td>58.0</td>\n",
       "      <td>38.55</td>\n",
       "      <td>1</td>\n",
       "    </tr>\n",
       "  </tbody>\n",
       "</table>\n",
       "</div>"
      ],
      "text/plain": [
       "         ISBN           Publisher                     Book_Title  \\\n",
       "0  1881320189      River City Pub  Goodbye to the Buttermilk Sky   \n",
       "1  0440295734        Bantam Books                  The Testament   \n",
       "2  0553502271  Random House Audio                  The Testament   \n",
       "3  0439095026          Scholastic   Tell Me This Isn't Happening   \n",
       "4  0060168013       Harpercollins                 Pigs in Heaven   \n",
       "\n",
       "          Book_Author  First_Publish_Year  Edition_Count  Book_Age  \\\n",
       "0        Julia Oliver                1994              1        33   \n",
       "1        John Grisham                1999             62        26   \n",
       "2        John Grisham                1999             61        26   \n",
       "3     Robynn Clairday                1999              1        26   \n",
       "4  Barbara Kingsolver                1993             13        32   \n",
       "\n",
       "  Edition_Count_Category  Total_Reviews  No_of_Pages Book_Length_Category  \\\n",
       "0                    Low            189          363               Medium   \n",
       "1                   High            588          474               Medium   \n",
       "2                   High              8          116                Short   \n",
       "3                    Low            165          440               Medium   \n",
       "4                 Medium             88          451               Medium   \n",
       "\n",
       "   Popularity_Score  Book_Price  Bestseller  \n",
       "0             113.8       32.15           1  \n",
       "1             377.6       37.70           1  \n",
       "2              29.2        5.80           0  \n",
       "3              99.4       32.00           1  \n",
       "4              58.0       38.55           1  "
      ]
     },
     "execution_count": 57,
     "metadata": {},
     "output_type": "execute_result"
    }
   ],
   "source": [
    "data = pd.read_csv('Final_cleaned_data.csv')\n",
    "data.head()"
   ]
  },
  {
   "cell_type": "code",
   "execution_count": 59,
   "id": "f3a55845-c152-4c19-a0de-28d21f0e9ff5",
   "metadata": {},
   "outputs": [],
   "source": [
    "drop_cols = ['ISBN', 'Book_Title', 'Book_Author','First_Publish_Year','Publisher']\n",
    "data = data.drop(columns=drop_cols)"
   ]
  },
  {
   "cell_type": "code",
   "execution_count": 83,
   "id": "6197e22c-4881-460b-9f95-bdc9e99469e2",
   "metadata": {},
   "outputs": [
    {
     "name": "stdout",
     "output_type": "stream",
     "text": [
      "\n",
      "Original Data Before Transformation:\n",
      "   Edition_Count  Book_Age Edition_Count_Category  Total_Reviews  No_of_Pages  \\\n",
      "0              1        33                    Low            189          363   \n",
      "1             62        26                   High            588          474   \n",
      "2             61        26                   High              8          116   \n",
      "3              1        26                    Low            165          440   \n",
      "4             13        32                 Medium             88          451   \n",
      "\n",
      "  Book_Length_Category  Popularity_Score  Book_Price  Bestseller  \n",
      "0               Medium             113.8       32.15           1  \n",
      "1               Medium             377.6       37.70           1  \n",
      "2                Short              29.2        5.80           0  \n",
      "3               Medium              99.4       32.00           1  \n",
      "4               Medium              58.0       38.55           1  \n"
     ]
    }
   ],
   "source": [
    "print(\"\\nOriginal Data Before Transformation:\")\n",
    "print(data.head())"
   ]
  },
  {
   "cell_type": "code",
   "execution_count": 63,
   "id": "5fadf4f3-701d-4d1f-9ce8-3e939e91ef13",
   "metadata": {},
   "outputs": [],
   "source": [
    "X = data.drop(columns=['Bestseller'])\n",
    "y = data['Bestseller']"
   ]
  },
  {
   "cell_type": "code",
   "execution_count": 65,
   "id": "2102dbd6-3f61-418a-b242-90860a5fb86c",
   "metadata": {},
   "outputs": [],
   "source": [
    "categorical_cols = X.select_dtypes(include=['object']).columns\n",
    "for col in categorical_cols:\n",
    "    le = LabelEncoder()\n",
    "    X[col] = le.fit_transform(X[col])"
   ]
  },
  {
   "cell_type": "code",
   "execution_count": 85,
   "id": "399083d5-b6b0-413d-a94b-f62ace5ecc52",
   "metadata": {},
   "outputs": [
    {
     "name": "stdout",
     "output_type": "stream",
     "text": [
      "\n",
      "Data After Encoding After Transformation:\n",
      "   Edition_Count  Book_Age  Edition_Count_Category  Total_Reviews  \\\n",
      "0              1        33                       1            189   \n",
      "1             62        26                       0            588   \n",
      "2             61        26                       0              8   \n",
      "3              1        26                       1            165   \n",
      "4             13        32                       2             88   \n",
      "\n",
      "   No_of_Pages  Book_Length_Category  Popularity_Score  Book_Price  \n",
      "0          363                     1             113.8       32.15  \n",
      "1          474                     1             377.6       37.70  \n",
      "2          116                     2              29.2        5.80  \n",
      "3          440                     1              99.4       32.00  \n",
      "4          451                     1              58.0       38.55  \n"
     ]
    }
   ],
   "source": [
    "print(\"\\nData After Encoding After Transformation:\")\n",
    "print(X.head())"
   ]
  },
  {
   "cell_type": "code",
   "execution_count": 69,
   "id": "cd6efdbf-0609-4c20-b6bd-44a51fe21e38",
   "metadata": {},
   "outputs": [],
   "source": [
    "X_train, X_test, y_train, y_test = train_test_split(\n",
    "    X, y, test_size=0.2, random_state=42, stratify=y\n",
    ")"
   ]
  },
  {
   "cell_type": "code",
   "execution_count": 71,
   "id": "3a2ad151-12df-4ff8-9b55-5a7543b64144",
   "metadata": {},
   "outputs": [
    {
     "name": "stdout",
     "output_type": "stream",
     "text": [
      "\n",
      "Train Dataset (X_train):\n",
      "     Edition_Count  Book_Age  Edition_Count_Category  Total_Reviews  \\\n",
      "323              1        34                       1            336   \n",
      "154              1        38                       1            234   \n",
      "183              3        28                       1             42   \n",
      "332              1        22                       1            198   \n",
      "19               3        29                       1            820   \n",
      "\n",
      "     No_of_Pages  Book_Length_Category  Popularity_Score  Book_Price  \n",
      "323          763                     0             202.0       54.15  \n",
      "154          826                     0             140.8       53.30  \n",
      "183          842                     0              26.4       44.10  \n",
      "332          590                     0             119.2       35.50  \n",
      "19           403                     1             493.2       40.15  \n"
     ]
    }
   ],
   "source": [
    "print(\"\\nTrain Dataset (X_train):\")\n",
    "print(X_train.head())"
   ]
  },
  {
   "cell_type": "code",
   "execution_count": 73,
   "id": "81d7ca61-4d32-4eb0-9f1b-09d2573ba842",
   "metadata": {},
   "outputs": [
    {
     "name": "stdout",
     "output_type": "stream",
     "text": [
      "\n",
      "Test Dataset (X_test):\n",
      "     Edition_Count  Book_Age  Edition_Count_Category  Total_Reviews  \\\n",
      "482              1        26                       1            759   \n",
      "679              2        23                       1            260   \n",
      "895             39        51                       0             97   \n",
      "632             18        36                       2            396   \n",
      "866             56        33                       0            930   \n",
      "\n",
      "     No_of_Pages  Book_Length_Category  Popularity_Score  Book_Price  \n",
      "482          350                     1             455.8        37.5  \n",
      "679          318                     1             156.8        35.9  \n",
      "895          602                     0              73.8        50.1  \n",
      "632          230                     1             244.8        29.5  \n",
      "866          174                     2             580.4        28.7  \n"
     ]
    }
   ],
   "source": [
    "print(\"\\nTest Dataset (X_test):\")\n",
    "print(X_test.head())"
   ]
  },
  {
   "cell_type": "code",
   "execution_count": 75,
   "id": "448adba2-394d-41f9-ba11-e6a1b7a01e59",
   "metadata": {},
   "outputs": [],
   "source": [
    "rf = RandomForestClassifier(\n",
    "    n_estimators=100,\n",
    "    bootstrap=True,  \n",
    "    random_state=42\n",
    ")\n",
    "\n",
    "rf.fit(X_train, y_train)\n",
    "\n",
    "y_pred = rf.predict(X_test)\n",
    "\n",
    "acc = accuracy_score(y_test, y_pred)\n",
    "cm = confusion_matrix(y_test, y_pred)\n",
    "report = classification_report(y_test, y_pred)"
   ]
  },
  {
   "cell_type": "code",
   "execution_count": 77,
   "id": "78955e17-480d-4a5e-a5b4-c9b85710a861",
   "metadata": {},
   "outputs": [
    {
     "name": "stdout",
     "output_type": "stream",
     "text": [
      "\n",
      "Random Forest Accuracy (with Bootstrapping): 0.9653\n",
      "\n",
      "Confusion Matrix:\n",
      "[[ 11   7]\n",
      " [  0 184]]\n",
      "\n",
      "Classification Report:\n",
      "              precision    recall  f1-score   support\n",
      "\n",
      "           0       1.00      0.61      0.76        18\n",
      "           1       0.96      1.00      0.98       184\n",
      "\n",
      "    accuracy                           0.97       202\n",
      "   macro avg       0.98      0.81      0.87       202\n",
      "weighted avg       0.97      0.97      0.96       202\n",
      "\n"
     ]
    }
   ],
   "source": [
    "print(f\"\\nRandom Forest Accuracy (with Bootstrapping): {acc:.4f}\")\n",
    "print(\"\\nConfusion Matrix:\")\n",
    "print(cm)\n",
    "print(\"\\nClassification Report:\")\n",
    "print(report)"
   ]
  },
  {
   "cell_type": "code",
   "execution_count": 87,
   "id": "5502fedb-0d27-48d1-a27b-d531294aa598",
   "metadata": {},
   "outputs": [
    {
     "data": {
      "image/png": "[encoded data removed]",
      "text/plain": [
       "<Figure size 600x400 with 1 Axes>"
      ]
     },
     "metadata": {},
     "output_type": "display_data"
    }
   ],
   "source": [
    "plt.figure(figsize=(6, 4))\n",
    "sns.heatmap(cm, annot=True, fmt='d', cmap='Blues', cbar=False)\n",
    "plt.title('Confusion Matrix - Random Forest')\n",
    "plt.xlabel('Predicted')\n",
    "plt.ylabel('Actual')\n",
    "plt.show()"
   ]
  },
  {
   "cell_type": "code",
   "execution_count": 81,
   "id": "40ab8cd2-7db6-42c7-a503-5bd8749c0e54",
   "metadata": {},
   "outputs": [
    {
     "data": {
      "image/png": "[encoded data removed]",
      "text/plain": [
       "<Figure size 800x500 with 1 Axes>"
      ]
     },
     "metadata": {},
     "output_type": "display_data"
    }
   ],
   "source": [
    "feature_importances = pd.Series(rf.feature_importances_, index=X.columns)\n",
    "feature_importances = feature_importances.sort_values(ascending=False)\n",
    "\n",
    "plt.figure(figsize=(8, 5))\n",
    "feature_importances.plot(kind='bar')\n",
    "plt.title('Feature Importances - Random Forest (Bootstrapped)')\n",
    "plt.ylabel('Importance Score')\n",
    "plt.xticks(rotation=45)\n",
    "plt.tight_layout()\n",
    "plt.show()\n"
   ]
  },
  {
   "cell_type": "code",
   "execution_count": null,
   "id": "3bd67b83-35e9-4145-8512-6ba8da2ba9f8",
   "metadata": {},
   "outputs": [],
   "source": []
  }
 ],
 "metadata": {
  "kernelspec": {
   "display_name": "Python 3 (ipykernel)",
   "language": "python",
   "name": "python3"
  },
  "language_info": {
   "codemirror_mode": {
    "name": "ipython",
    "version": 3
   },
   "file_extension": ".py",
   "mimetype": "text/x-python",
   "name": "python",
   "nbconvert_exporter": "python",
   "pygments_lexer": "ipython3",
   "version": "3.12.4"
  }
 },
 "nbformat": 4,
 "nbformat_minor": 5
}
